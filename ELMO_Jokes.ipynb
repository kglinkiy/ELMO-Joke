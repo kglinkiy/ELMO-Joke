{
  "nbformat": 4,
  "nbformat_minor": 0,
  "metadata": {
    "colab": {
      "name": "ELMO Jokes.ipynb",
      "version": "0.3.2",
      "provenance": [],
      "collapsed_sections": []
    },
    "kernelspec": {
      "name": "python3",
      "display_name": "Python 3"
    },
    "accelerator": "GPU"
  },
  "cells": [
    {
      "cell_type": "code",
      "metadata": {
        "id": "H2XEb8swWs0_",
        "colab_type": "code",
        "colab": {
          "base_uri": "https://localhost:8080/",
          "height": 92
        },
        "outputId": "ba6720b2-ca4f-4972-b553-cf801920dd80"
      },
      "source": [
        "import tensorflow as tf\n",
        "import tensorflow_hub as hub\n",
        "import pandas as pd\n",
        "from sklearn import preprocessing\n",
        "import keras\n",
        "import numpy as np"
      ],
      "execution_count": 1,
      "outputs": [
        {
          "output_type": "stream",
          "text": [
            "WARNING: Logging before flag parsing goes to stderr.\n",
            "W0526 18:28:40.853857 140370744285056 __init__.py:56] Some hub symbols are not available because TensorFlow version is less than 1.14\n",
            "Using TensorFlow backend.\n"
          ],
          "name": "stderr"
        }
      ]
    },
    {
      "cell_type": "code",
      "metadata": {
        "id": "w5zGHoBlWtTH",
        "colab_type": "code",
        "colab": {
          "base_uri": "https://localhost:8080/",
          "height": 146
        },
        "outputId": "201f594e-ef7a-4116-eb08-f982a92787c0"
      },
      "source": [
        "url = \"https://tfhub.dev/google/elmo/2\"\n",
        "embed = hub.Module(url)\n"
      ],
      "execution_count": 2,
      "outputs": [
        {
          "output_type": "stream",
          "text": [
            "WARNING:tensorflow:From /usr/local/lib/python3.6/dist-packages/tensorflow/python/ops/control_flow_ops.py:3632: colocate_with (from tensorflow.python.framework.ops) is deprecated and will be removed in a future version.\n",
            "Instructions for updating:\n",
            "Colocations handled automatically by placer.\n"
          ],
          "name": "stdout"
        },
        {
          "output_type": "stream",
          "text": [
            "W0526 18:28:46.982591 140370744285056 deprecation.py:323] From /usr/local/lib/python3.6/dist-packages/tensorflow/python/ops/control_flow_ops.py:3632: colocate_with (from tensorflow.python.framework.ops) is deprecated and will be removed in a future version.\n",
            "Instructions for updating:\n",
            "Colocations handled automatically by placer.\n"
          ],
          "name": "stderr"
        }
      ]
    },
    {
      "cell_type": "code",
      "metadata": {
        "id": "UqRu9rRkWvIb",
        "colab_type": "code",
        "colab": {}
      },
      "source": [
        "data = pd.read_csv('jokes.csv')\n"
      ],
      "execution_count": 0,
      "outputs": []
    },
    {
      "cell_type": "code",
      "metadata": {
        "id": "z7Ikch8yaYFA",
        "colab_type": "code",
        "colab": {}
      },
      "source": [
        "data=data.dropna()"
      ],
      "execution_count": 0,
      "outputs": []
    },
    {
      "cell_type": "code",
      "metadata": {
        "id": "hHleHyNoc00e",
        "colab_type": "code",
        "colab": {}
      },
      "source": [
        "sorted_data=data.sort_values(by='rating',ascending=False)"
      ],
      "execution_count": 0,
      "outputs": []
    },
    {
      "cell_type": "code",
      "metadata": {
        "id": "wcdI7SWyc76Q",
        "colab_type": "code",
        "colab": {
          "base_uri": "https://localhost:8080/",
          "height": 1992
        },
        "outputId": "b8cb5874-12a0-4f2b-887f-344d5f1e7c91"
      },
      "source": [
        "sorted_data"
      ],
      "execution_count": 41,
      "outputs": [
        {
          "output_type": "execute_result",
          "data": {
            "text/html": [
              "<div>\n",
              "<style scoped>\n",
              "    .dataframe tbody tr th:only-of-type {\n",
              "        vertical-align: middle;\n",
              "    }\n",
              "\n",
              "    .dataframe tbody tr th {\n",
              "        vertical-align: top;\n",
              "    }\n",
              "\n",
              "    .dataframe thead th {\n",
              "        text-align: right;\n",
              "    }\n",
              "</style>\n",
              "<table border=\"1\" class=\"dataframe\">\n",
              "  <thead>\n",
              "    <tr style=\"text-align: right;\">\n",
              "      <th></th>\n",
              "      <th>body</th>\n",
              "      <th>category</th>\n",
              "      <th>id</th>\n",
              "      <th>rating</th>\n",
              "    </tr>\n",
              "  </thead>\n",
              "  <tbody>\n",
              "    <tr>\n",
              "      <th>1798</th>\n",
              "      <td>REDNECK JEDI You might be a Redneck Jedi if......</td>\n",
              "      <td>Family, Parents</td>\n",
              "      <td>1799</td>\n",
              "      <td>5.0</td>\n",
              "    </tr>\n",
              "    <tr>\n",
              "      <th>2734</th>\n",
              "      <td>Every night, after dinner, a man took off for ...</td>\n",
              "      <td>Bar Jokes</td>\n",
              "      <td>2735</td>\n",
              "      <td>5.0</td>\n",
              "    </tr>\n",
              "    <tr>\n",
              "      <th>517</th>\n",
              "      <td>A couple went on vacation to a resort up north...</td>\n",
              "      <td>Women</td>\n",
              "      <td>518</td>\n",
              "      <td>5.0</td>\n",
              "    </tr>\n",
              "    <tr>\n",
              "      <th>519</th>\n",
              "      <td>Once a woman was in labor; she was having a re...</td>\n",
              "      <td>Women</td>\n",
              "      <td>520</td>\n",
              "      <td>5.0</td>\n",
              "    </tr>\n",
              "    <tr>\n",
              "      <th>521</th>\n",
              "      <td>Sitting on the side of the highway waiting to ...</td>\n",
              "      <td>Women</td>\n",
              "      <td>522</td>\n",
              "      <td>5.0</td>\n",
              "    </tr>\n",
              "    <tr>\n",
              "      <th>2730</th>\n",
              "      <td>Bill Gates dies and goes to hell. Satan greets...</td>\n",
              "      <td>Heaven and Hell</td>\n",
              "      <td>2731</td>\n",
              "      <td>5.0</td>\n",
              "    </tr>\n",
              "    <tr>\n",
              "      <th>3480</th>\n",
              "      <td>Are you overworked, under paid, over-regulated...</td>\n",
              "      <td>Business</td>\n",
              "      <td>3481</td>\n",
              "      <td>5.0</td>\n",
              "    </tr>\n",
              "    <tr>\n",
              "      <th>1926</th>\n",
              "      <td>Four Catholic mothers are sitting around bragg...</td>\n",
              "      <td>Religious</td>\n",
              "      <td>1927</td>\n",
              "      <td>5.0</td>\n",
              "    </tr>\n",
              "    <tr>\n",
              "      <th>2733</th>\n",
              "      <td>What is the speed of dark?</td>\n",
              "      <td>Miscellaneous</td>\n",
              "      <td>2734</td>\n",
              "      <td>5.0</td>\n",
              "    </tr>\n",
              "    <tr>\n",
              "      <th>3478</th>\n",
              "      <td>The tribal wisdom of the Dakota Indians, passe...</td>\n",
              "      <td>Business</td>\n",
              "      <td>3479</td>\n",
              "      <td>5.0</td>\n",
              "    </tr>\n",
              "    <tr>\n",
              "      <th>1922</th>\n",
              "      <td>Just after the maid had been fired, she took f...</td>\n",
              "      <td>Miscellaneous</td>\n",
              "      <td>1923</td>\n",
              "      <td>5.0</td>\n",
              "    </tr>\n",
              "    <tr>\n",
              "      <th>2739</th>\n",
              "      <td>YOU KNOW YOU'VE BEEN DRINKING WAY TOO MUCH COF...</td>\n",
              "      <td>Science</td>\n",
              "      <td>2740</td>\n",
              "      <td>5.0</td>\n",
              "    </tr>\n",
              "    <tr>\n",
              "      <th>1342</th>\n",
              "      <td>Hillary Clinton went into a pet shop and found...</td>\n",
              "      <td>Political</td>\n",
              "      <td>1343</td>\n",
              "      <td>5.0</td>\n",
              "    </tr>\n",
              "    <tr>\n",
              "      <th>2157</th>\n",
              "      <td>A man walks into a drug store with his 8-year-...</td>\n",
              "      <td>Marriage</td>\n",
              "      <td>2158</td>\n",
              "      <td>5.0</td>\n",
              "    </tr>\n",
              "    <tr>\n",
              "      <th>2460</th>\n",
              "      <td>Two rednecks had just gone fishing and brought...</td>\n",
              "      <td>Idiots</td>\n",
              "      <td>2461</td>\n",
              "      <td>5.0</td>\n",
              "    </tr>\n",
              "    <tr>\n",
              "      <th>2741</th>\n",
              "      <td>There were three fathers to be in a hospital w...</td>\n",
              "      <td>Crazy Jokes</td>\n",
              "      <td>2742</td>\n",
              "      <td>5.0</td>\n",
              "    </tr>\n",
              "    <tr>\n",
              "      <th>1333</th>\n",
              "      <td>\"No clergyman shall tell a funny story from th...</td>\n",
              "      <td>Political</td>\n",
              "      <td>1334</td>\n",
              "      <td>5.0</td>\n",
              "    </tr>\n",
              "    <tr>\n",
              "      <th>2742</th>\n",
              "      <td>Two brothers, John and Richard lived \\r\\nin th...</td>\n",
              "      <td>Animals</td>\n",
              "      <td>2743</td>\n",
              "      <td>5.0</td>\n",
              "    </tr>\n",
              "    <tr>\n",
              "      <th>2724</th>\n",
              "      <td>Two women were at a bar. One looked at the oth...</td>\n",
              "      <td>Sex</td>\n",
              "      <td>2725</td>\n",
              "      <td>5.0</td>\n",
              "    </tr>\n",
              "    <tr>\n",
              "      <th>2720</th>\n",
              "      <td>An Irishman was in the South of France and cou...</td>\n",
              "      <td>Miscellaneous</td>\n",
              "      <td>2721</td>\n",
              "      <td>5.0</td>\n",
              "    </tr>\n",
              "    <tr>\n",
              "      <th>2706</th>\n",
              "      <td>During a recent publicity outing, Hillary snea...</td>\n",
              "      <td>Miscellaneous</td>\n",
              "      <td>2707</td>\n",
              "      <td>5.0</td>\n",
              "    </tr>\n",
              "    <tr>\n",
              "      <th>1405</th>\n",
              "      <td>Yo mama so old she saw Jurrasic Park and said ...</td>\n",
              "      <td>Yo Mama</td>\n",
              "      <td>1406</td>\n",
              "      <td>5.0</td>\n",
              "    </tr>\n",
              "    <tr>\n",
              "      <th>3574</th>\n",
              "      <td>A man has too much to drink at a party. His fr...</td>\n",
              "      <td>Police Jokes</td>\n",
              "      <td>3575</td>\n",
              "      <td>5.0</td>\n",
              "    </tr>\n",
              "    <tr>\n",
              "      <th>2708</th>\n",
              "      <td>There once was a rich man who was near death. ...</td>\n",
              "      <td>Money</td>\n",
              "      <td>2709</td>\n",
              "      <td>5.0</td>\n",
              "    </tr>\n",
              "    <tr>\n",
              "      <th>478</th>\n",
              "      <td>A little boy goes to the local mall to see San...</td>\n",
              "      <td>Children</td>\n",
              "      <td>479</td>\n",
              "      <td>5.0</td>\n",
              "    </tr>\n",
              "    <tr>\n",
              "      <th>2709</th>\n",
              "      <td>Q: What do you call a group of blondes in a ci...</td>\n",
              "      <td>Miscellaneous</td>\n",
              "      <td>2710</td>\n",
              "      <td>5.0</td>\n",
              "    </tr>\n",
              "    <tr>\n",
              "      <th>3572</th>\n",
              "      <td>The following exchanges are taken from transcr...</td>\n",
              "      <td>Police Jokes</td>\n",
              "      <td>3573</td>\n",
              "      <td>5.0</td>\n",
              "    </tr>\n",
              "    <tr>\n",
              "      <th>3561</th>\n",
              "      <td>I watched an ant\\r\\nclimb a blade of grass thi...</td>\n",
              "      <td>Bar Jokes</td>\n",
              "      <td>3562</td>\n",
              "      <td>5.0</td>\n",
              "    </tr>\n",
              "    <tr>\n",
              "      <th>3550</th>\n",
              "      <td>An Irishman, an Italian, and a Polish guy are ...</td>\n",
              "      <td>Bar Jokes</td>\n",
              "      <td>3551</td>\n",
              "      <td>5.0</td>\n",
              "    </tr>\n",
              "    <tr>\n",
              "      <th>1917</th>\n",
              "      <td>Q: What happens when you take a Packard Bell, ...</td>\n",
              "      <td>Miscellaneous</td>\n",
              "      <td>1918</td>\n",
              "      <td>5.0</td>\n",
              "    </tr>\n",
              "    <tr>\n",
              "      <th>...</th>\n",
              "      <td>...</td>\n",
              "      <td>...</td>\n",
              "      <td>...</td>\n",
              "      <td>...</td>\n",
              "    </tr>\n",
              "    <tr>\n",
              "      <th>965</th>\n",
              "      <td>A man who was involved in a serious motorcycle...</td>\n",
              "      <td>Women</td>\n",
              "      <td>966</td>\n",
              "      <td>1.0</td>\n",
              "    </tr>\n",
              "    <tr>\n",
              "      <th>971</th>\n",
              "      <td>Disgusted by what he has seen on earth, God de...</td>\n",
              "      <td>Office Jokes</td>\n",
              "      <td>972</td>\n",
              "      <td>1.0</td>\n",
              "    </tr>\n",
              "    <tr>\n",
              "      <th>974</th>\n",
              "      <td>The City Health Inspector walks into a new res...</td>\n",
              "      <td>Bar Jokes</td>\n",
              "      <td>975</td>\n",
              "      <td>1.0</td>\n",
              "    </tr>\n",
              "    <tr>\n",
              "      <th>978</th>\n",
              "      <td>Three older ladies were discussing the travail...</td>\n",
              "      <td>Miscellaneous</td>\n",
              "      <td>979</td>\n",
              "      <td>1.0</td>\n",
              "    </tr>\n",
              "    <tr>\n",
              "      <th>2948</th>\n",
              "      <td>Ant Jokes\\r\\n\\r\\nWhere do ants go for their ho...</td>\n",
              "      <td>Animals</td>\n",
              "      <td>2949</td>\n",
              "      <td>0.0</td>\n",
              "    </tr>\n",
              "    <tr>\n",
              "      <th>2883</th>\n",
              "      <td>A man and his wife are driving down the road w...</td>\n",
              "      <td>Police Jokes</td>\n",
              "      <td>2884</td>\n",
              "      <td>0.0</td>\n",
              "    </tr>\n",
              "    <tr>\n",
              "      <th>2925</th>\n",
              "      <td>A teacher asks her students if they're Yankees...</td>\n",
              "      <td>Sports</td>\n",
              "      <td>2926</td>\n",
              "      <td>0.0</td>\n",
              "    </tr>\n",
              "    <tr>\n",
              "      <th>2908</th>\n",
              "      <td>BUREAUCRACY, AMERICAN STYLE\\r\\n\\r\\nYou have tw...</td>\n",
              "      <td>Animals</td>\n",
              "      <td>2909</td>\n",
              "      <td>0.0</td>\n",
              "    </tr>\n",
              "    <tr>\n",
              "      <th>2876</th>\n",
              "      <td>\"The Bushes hosted their predecessors at the W...</td>\n",
              "      <td>Political</td>\n",
              "      <td>2877</td>\n",
              "      <td>0.0</td>\n",
              "    </tr>\n",
              "    <tr>\n",
              "      <th>2877</th>\n",
              "      <td>\"Former President Bush parachuted with an Army...</td>\n",
              "      <td>Political</td>\n",
              "      <td>2878</td>\n",
              "      <td>0.0</td>\n",
              "    </tr>\n",
              "    <tr>\n",
              "      <th>2878</th>\n",
              "      <td>\"I guess the people I feel worst for are Carte...</td>\n",
              "      <td>Political</td>\n",
              "      <td>2879</td>\n",
              "      <td>0.0</td>\n",
              "    </tr>\n",
              "    <tr>\n",
              "      <th>2879</th>\n",
              "      <td>\"President Bush has returned after remembering...</td>\n",
              "      <td>Political</td>\n",
              "      <td>2880</td>\n",
              "      <td>0.0</td>\n",
              "    </tr>\n",
              "    <tr>\n",
              "      <th>2881</th>\n",
              "      <td>An artist asked the gallery owner if there had...</td>\n",
              "      <td>Medical</td>\n",
              "      <td>2882</td>\n",
              "      <td>0.0</td>\n",
              "    </tr>\n",
              "    <tr>\n",
              "      <th>2882</th>\n",
              "      <td>A woman in Brooklyn decided to prepare her Wil...</td>\n",
              "      <td>Family, Parents</td>\n",
              "      <td>2883</td>\n",
              "      <td>0.0</td>\n",
              "    </tr>\n",
              "    <tr>\n",
              "      <th>2884</th>\n",
              "      <td>A truck driver, hauling a tractor-trailer load...</td>\n",
              "      <td>Crazy Jokes</td>\n",
              "      <td>2885</td>\n",
              "      <td>0.0</td>\n",
              "    </tr>\n",
              "    <tr>\n",
              "      <th>2903</th>\n",
              "      <td>A highly timid little man, Casper Milquetoast,...</td>\n",
              "      <td>Animals</td>\n",
              "      <td>2904</td>\n",
              "      <td>0.0</td>\n",
              "    </tr>\n",
              "    <tr>\n",
              "      <th>2885</th>\n",
              "      <td>1. Your stationery is more cluttered than Warr...</td>\n",
              "      <td>Computers</td>\n",
              "      <td>2886</td>\n",
              "      <td>0.0</td>\n",
              "    </tr>\n",
              "    <tr>\n",
              "      <th>2886</th>\n",
              "      <td>What did the horse say when he fell?\\r\\n\\r\\nI...</td>\n",
              "      <td>Animals</td>\n",
              "      <td>2887</td>\n",
              "      <td>0.0</td>\n",
              "    </tr>\n",
              "    <tr>\n",
              "      <th>2887</th>\n",
              "      <td>Q. What do cows do for fun?\\r\\nA. They go to M...</td>\n",
              "      <td>Animals</td>\n",
              "      <td>2888</td>\n",
              "      <td>0.0</td>\n",
              "    </tr>\n",
              "    <tr>\n",
              "      <th>2888</th>\n",
              "      <td>Q. What are the two main political parties in ...</td>\n",
              "      <td>Animals</td>\n",
              "      <td>2889</td>\n",
              "      <td>0.0</td>\n",
              "    </tr>\n",
              "    <tr>\n",
              "      <th>2907</th>\n",
              "      <td>A young magician started to work on a cruise s...</td>\n",
              "      <td>Animals</td>\n",
              "      <td>2908</td>\n",
              "      <td>0.0</td>\n",
              "    </tr>\n",
              "    <tr>\n",
              "      <th>2890</th>\n",
              "      <td>Q. What do you call a chicken that crosses the...</td>\n",
              "      <td>Animals</td>\n",
              "      <td>2891</td>\n",
              "      <td>0.0</td>\n",
              "    </tr>\n",
              "    <tr>\n",
              "      <th>2891</th>\n",
              "      <td>A bear walks into a bar and asks the bartender...</td>\n",
              "      <td>Animals</td>\n",
              "      <td>2892</td>\n",
              "      <td>0.0</td>\n",
              "    </tr>\n",
              "    <tr>\n",
              "      <th>2893</th>\n",
              "      <td>Q. What did the father buffalo say to the son ...</td>\n",
              "      <td>Animals</td>\n",
              "      <td>2894</td>\n",
              "      <td>0.0</td>\n",
              "    </tr>\n",
              "    <tr>\n",
              "      <th>2904</th>\n",
              "      <td>A young boy, about eight years old, was at the...</td>\n",
              "      <td>Animals</td>\n",
              "      <td>2905</td>\n",
              "      <td>0.0</td>\n",
              "    </tr>\n",
              "    <tr>\n",
              "      <th>2898</th>\n",
              "      <td>A little boy, wearing a big red fire hat, was ...</td>\n",
              "      <td>Animals</td>\n",
              "      <td>2899</td>\n",
              "      <td>0.0</td>\n",
              "    </tr>\n",
              "    <tr>\n",
              "      <th>2899</th>\n",
              "      <td>\"Some plants,\" said the teacher, \"have the pre...</td>\n",
              "      <td>Children</td>\n",
              "      <td>2900</td>\n",
              "      <td>0.0</td>\n",
              "    </tr>\n",
              "    <tr>\n",
              "      <th>2900</th>\n",
              "      <td>There was a hound dog laying in the yard and a...</td>\n",
              "      <td>Animals</td>\n",
              "      <td>2901</td>\n",
              "      <td>0.0</td>\n",
              "    </tr>\n",
              "    <tr>\n",
              "      <th>2901</th>\n",
              "      <td>Two guys were walking their dogs and came acro...</td>\n",
              "      <td>Animals</td>\n",
              "      <td>2902</td>\n",
              "      <td>0.0</td>\n",
              "    </tr>\n",
              "    <tr>\n",
              "      <th>2889</th>\n",
              "      <td>Q. What do you call a cow murder mystery?\\r\\nA...</td>\n",
              "      <td>Animals</td>\n",
              "      <td>2890</td>\n",
              "      <td>0.0</td>\n",
              "    </tr>\n",
              "  </tbody>\n",
              "</table>\n",
              "<p>3200 rows × 4 columns</p>\n",
              "</div>"
            ],
            "text/plain": [
              "                                                   body  ... rating\n",
              "1798  REDNECK JEDI You might be a Redneck Jedi if......  ...    5.0\n",
              "2734  Every night, after dinner, a man took off for ...  ...    5.0\n",
              "517   A couple went on vacation to a resort up north...  ...    5.0\n",
              "519   Once a woman was in labor; she was having a re...  ...    5.0\n",
              "521   Sitting on the side of the highway waiting to ...  ...    5.0\n",
              "2730  Bill Gates dies and goes to hell. Satan greets...  ...    5.0\n",
              "3480  Are you overworked, under paid, over-regulated...  ...    5.0\n",
              "1926  Four Catholic mothers are sitting around bragg...  ...    5.0\n",
              "2733                         What is the speed of dark?  ...    5.0\n",
              "3478  The tribal wisdom of the Dakota Indians, passe...  ...    5.0\n",
              "1922  Just after the maid had been fired, she took f...  ...    5.0\n",
              "2739  YOU KNOW YOU'VE BEEN DRINKING WAY TOO MUCH COF...  ...    5.0\n",
              "1342  Hillary Clinton went into a pet shop and found...  ...    5.0\n",
              "2157  A man walks into a drug store with his 8-year-...  ...    5.0\n",
              "2460  Two rednecks had just gone fishing and brought...  ...    5.0\n",
              "2741  There were three fathers to be in a hospital w...  ...    5.0\n",
              "1333  \"No clergyman shall tell a funny story from th...  ...    5.0\n",
              "2742  Two brothers, John and Richard lived \\r\\nin th...  ...    5.0\n",
              "2724  Two women were at a bar. One looked at the oth...  ...    5.0\n",
              "2720  An Irishman was in the South of France and cou...  ...    5.0\n",
              "2706  During a recent publicity outing, Hillary snea...  ...    5.0\n",
              "1405  Yo mama so old she saw Jurrasic Park and said ...  ...    5.0\n",
              "3574  A man has too much to drink at a party. His fr...  ...    5.0\n",
              "2708  There once was a rich man who was near death. ...  ...    5.0\n",
              "478   A little boy goes to the local mall to see San...  ...    5.0\n",
              "2709  Q: What do you call a group of blondes in a ci...  ...    5.0\n",
              "3572  The following exchanges are taken from transcr...  ...    5.0\n",
              "3561  I watched an ant\\r\\nclimb a blade of grass thi...  ...    5.0\n",
              "3550  An Irishman, an Italian, and a Polish guy are ...  ...    5.0\n",
              "1917  Q: What happens when you take a Packard Bell, ...  ...    5.0\n",
              "...                                                 ...  ...    ...\n",
              "965   A man who was involved in a serious motorcycle...  ...    1.0\n",
              "971   Disgusted by what he has seen on earth, God de...  ...    1.0\n",
              "974   The City Health Inspector walks into a new res...  ...    1.0\n",
              "978   Three older ladies were discussing the travail...  ...    1.0\n",
              "2948  Ant Jokes\\r\\n\\r\\nWhere do ants go for their ho...  ...    0.0\n",
              "2883  A man and his wife are driving down the road w...  ...    0.0\n",
              "2925  A teacher asks her students if they're Yankees...  ...    0.0\n",
              "2908  BUREAUCRACY, AMERICAN STYLE\\r\\n\\r\\nYou have tw...  ...    0.0\n",
              "2876  \"The Bushes hosted their predecessors at the W...  ...    0.0\n",
              "2877  \"Former President Bush parachuted with an Army...  ...    0.0\n",
              "2878  \"I guess the people I feel worst for are Carte...  ...    0.0\n",
              "2879  \"President Bush has returned after remembering...  ...    0.0\n",
              "2881  An artist asked the gallery owner if there had...  ...    0.0\n",
              "2882  A woman in Brooklyn decided to prepare her Wil...  ...    0.0\n",
              "2884  A truck driver, hauling a tractor-trailer load...  ...    0.0\n",
              "2903  A highly timid little man, Casper Milquetoast,...  ...    0.0\n",
              "2885  1. Your stationery is more cluttered than Warr...  ...    0.0\n",
              "2886  What did the horse say when he fell?\\r\\n\\r\\nI...  ...    0.0\n",
              "2887  Q. What do cows do for fun?\\r\\nA. They go to M...  ...    0.0\n",
              "2888  Q. What are the two main political parties in ...  ...    0.0\n",
              "2907  A young magician started to work on a cruise s...  ...    0.0\n",
              "2890  Q. What do you call a chicken that crosses the...  ...    0.0\n",
              "2891  A bear walks into a bar and asks the bartender...  ...    0.0\n",
              "2893  Q. What did the father buffalo say to the son ...  ...    0.0\n",
              "2904  A young boy, about eight years old, was at the...  ...    0.0\n",
              "2898  A little boy, wearing a big red fire hat, was ...  ...    0.0\n",
              "2899  \"Some plants,\" said the teacher, \"have the pre...  ...    0.0\n",
              "2900  There was a hound dog laying in the yard and a...  ...    0.0\n",
              "2901  Two guys were walking their dogs and came acro...  ...    0.0\n",
              "2889  Q. What do you call a cow murder mystery?\\r\\nA...  ...    0.0\n",
              "\n",
              "[3200 rows x 4 columns]"
            ]
          },
          "metadata": {
            "tags": []
          },
          "execution_count": 41
        }
      ]
    },
    {
      "cell_type": "code",
      "metadata": {
        "id": "WF7lORLuXqGt",
        "colab_type": "code",
        "colab": {}
      },
      "source": [
        "\n",
        "y = data.values[:,3]\n",
        "x = data.values[:,0]"
      ],
      "execution_count": 0,
      "outputs": []
    },
    {
      "cell_type": "code",
      "metadata": {
        "id": "eQUqZczuZ4YT",
        "colab_type": "code",
        "colab": {
          "base_uri": "https://localhost:8080/",
          "height": 55
        },
        "outputId": "9f75628d-5e6b-4bc8-d05c-a8a750c74212"
      },
      "source": [
        "x[1488]"
      ],
      "execution_count": 81,
      "outputs": [
        {
          "output_type": "execute_result",
          "data": {
            "text/plain": [
              "'The CEO of a Vacuum Cleaner company was impatient with the poor job his salespeople were doing, so one day he decided to do the job himself.\\r\\n\\r\\nHe pulled up to an old house in his Mercedes Benz and knocked on the door. A little old barefoot man wearing overalls answered the knock on the door, only to be confronted by the very well dressed and dignified CEO in a $2,000 navy blue pin-striped business suit, a Hermes silk tie, a starched white shirt with monogrammed cufflinks, $700 shoes polished like black mirrors, and carrying a vacuum cleaner.\\r\\n\\r\\n\"Good morning,\" said the well-dressed and impeccably groomed CEO. \"If I could take a couple minutes of your time, I would like to demonstrate the very latest in high-powered vacuum cleaners.\"\\r\\n\\r\\n\"Get lost, Mister fancy suit!\" said the old man. \"I haven\\'t got any money\" and he proceeded to close the door.\\r\\n\\r\\nQuick as a flash, the CEO wedged his polished shoe in the door and pushed it wide open.\\r\\n\\r\\n\"Don\\'t be too hasty!\" he said. \"Not until you have at least seen my demonstration.\"\\r\\n\\r\\nThe old man again told him to get lost. And with that, the CEO emptied a bucket of mud all over his hallway carpet.\\r\\n\\r\\n\"If this vacuum cleaner does not remove all traces of this mess from your carpet, sir, I will personally eat the remainder. I am the CEO! You have my GUARANTEE!\"\\r\\n\\r\\n\"I got a better idea\" said the old man, \"If you don\\'t clean it all up, I\\'ll swap those fancy clothes of yours fer my overalls. Your nice suit, your tie, your shoes, everything!\"\\r\\n\\r\\n\"Fine, sir!\" said the CEO confidently. \"I\\'ll give you my clothes!\"\\r\\n\\r\\n\"Lemme ask you somethin\\', pal...Where are you goin\\' when you leave here?\"\\r\\n\\r\\nThe CEO answered very confidently: \"To a VERY important conference! WHY?\"\\r\\n\\r\\n\"Will they let you in if yer barefoot?\" said the old man.\\r\\n\\r\\n\"Of course not!\" said the CEO.\\r\\n\\r\\n\"How much did you pay for those socks you\\'v got on?\" asked the old man.\\r\\n\\r\\n\"Fifty dollars\" said the bewildered CEO.\\r\\n\\r\\n\"I ain\\'t never worn fifty dollar socks before!\" said the old man. \"It will be kinda hard for you to wear overalls to work, I guess!\" said the old man.\\r\\n\\r\\n\"WHAT?!\" said the confused CEO.\\r\\n\\r\\n\"And will you show how me to tie a necktie?\" said the old man...\\r\\n\\r\\nOne hour later, the door of the apartment opened, and the CEO carefully looked out. Seeing that no one was around, his foot appeared.\\r\\n\\r\\nA bare foot.\\r\\n\\r\\nHe stepped out into the hallway - dressed only in overalls and bare feet. His expensive executive suit and tie had vanished, along with his confidence and dignity.\\r\\n\\r\\nThe old man watched him run away to his car with a grin, admiring the expensive pinstriped suit and silk tie he had just acquired. He then sat down and pulled on the CEO\\'s fifty dollar socks and gleaming shoes.\\r\\n\\r\\n\"Now I gotta see about payin\\' that electric bill...\"'"
            ]
          },
          "metadata": {
            "tags": []
          },
          "execution_count": 81
        }
      ]
    },
    {
      "cell_type": "markdown",
      "metadata": {
        "id": "bokik7BruzFi",
        "colab_type": "text"
      },
      "source": [
        ""
      ]
    },
    {
      "cell_type": "code",
      "metadata": {
        "id": "-E0V0iPwWzOF",
        "colab_type": "code",
        "colab": {}
      },
      "source": [
        "x_train = np.asarray(x[:3000])\n",
        "y_train = np.asarray(y[:3000])\n",
        "\n",
        "x_test = np.asarray(x[3000:])\n",
        "y_test = np.asarray(y[3000:])\n",
        "\n"
      ],
      "execution_count": 0,
      "outputs": []
    },
    {
      "cell_type": "code",
      "metadata": {
        "id": "YpZinOULZ8qt",
        "colab_type": "code",
        "colab": {}
      },
      "source": [
        "y_train/=5\n",
        "y_test/=5"
      ],
      "execution_count": 0,
      "outputs": []
    },
    {
      "cell_type": "code",
      "metadata": {
        "id": "925sNaPudrLR",
        "colab_type": "code",
        "colab": {
          "base_uri": "https://localhost:8080/",
          "height": 35
        },
        "outputId": "ea2c931d-9efe-41ad-9e66-204df562fbbc"
      },
      "source": [
        "for i in y_test:\n",
        "  flag=np.max(np.isnan(i))\n",
        "flag"
      ],
      "execution_count": 52,
      "outputs": [
        {
          "output_type": "execute_result",
          "data": {
            "text/plain": [
              "False"
            ]
          },
          "metadata": {
            "tags": []
          },
          "execution_count": 52
        }
      ]
    },
    {
      "cell_type": "code",
      "metadata": {
        "id": "rRONwm5Qrs6r",
        "colab_type": "code",
        "colab": {
          "base_uri": "https://localhost:8080/",
          "height": 35
        },
        "outputId": "bed09a73-60d9-482e-eca8-e40a8ed190db"
      },
      "source": [
        "x_train.shape"
      ],
      "execution_count": 68,
      "outputs": [
        {
          "output_type": "execute_result",
          "data": {
            "text/plain": [
              "(3000,)"
            ]
          },
          "metadata": {
            "tags": []
          },
          "execution_count": 68
        }
      ]
    },
    {
      "cell_type": "code",
      "metadata": {
        "id": "i8upzGGxY2Bq",
        "colab_type": "code",
        "colab": {}
      },
      "source": [
        "from keras.layers import Input, Lambda, Dense\n",
        "from keras.models import Model\n",
        "import keras.backend as K"
      ],
      "execution_count": 0,
      "outputs": []
    },
    {
      "cell_type": "code",
      "metadata": {
        "id": "2T1XK0HSY7m4",
        "colab_type": "code",
        "colab": {
          "base_uri": "https://localhost:8080/",
          "height": 53
        },
        "outputId": "c018298f-7e89-4ad4-99d4-8caf8777c2ed"
      },
      "source": [
        "def ELMoEmbedding(x):\n",
        "    return embed(tf.squeeze(tf.cast(x, tf.string)), signature=\"default\", as_dict=True)[\"default\"]\n",
        "\n",
        "input_text = Input(shape=(1,), dtype=tf.string)\n",
        "embedding = Lambda(ELMoEmbedding, output_shape=(1024, ))(input_text)\n",
        "dense = Dense(128, activation='relu')(embedding)\n",
        "pred = Dense(1)(dense)\n",
        "model = Model(inputs=[input_text], outputs=pred)\n",
        "model.compile(loss='mse', optimizer='adam', metrics=['mse'])\n"
      ],
      "execution_count": 56,
      "outputs": [
        {
          "output_type": "stream",
          "text": [
            "INFO:tensorflow:Saver not created because there are no variables in the graph to restore\n"
          ],
          "name": "stdout"
        },
        {
          "output_type": "stream",
          "text": [
            "I0526 18:50:22.264728 140370744285056 saver.py:1483] Saver not created because there are no variables in the graph to restore\n"
          ],
          "name": "stderr"
        }
      ]
    },
    {
      "cell_type": "code",
      "metadata": {
        "id": "MJqqPSFLbCUS",
        "colab_type": "code",
        "colab": {
          "base_uri": "https://localhost:8080/",
          "height": 346
        },
        "outputId": "3524df44-6132-465f-ae04-c2b11424f4f6"
      },
      "source": [
        "with tf.Session() as session:\n",
        "    K.set_session(session)\n",
        "    session.run(tf.global_variables_initializer())  \n",
        "    session.run(tf.tables_initializer())\n",
        "    history = model.fit(x_train, y_train, epochs=5, batch_size=8)\n",
        "    model.save_weights('./elmo-model.h5')\n"
      ],
      "execution_count": 59,
      "outputs": [
        {
          "output_type": "stream",
          "text": [
            "Epoch 1/5\n"
          ],
          "name": "stdout"
        },
        {
          "output_type": "stream",
          "text": [
            "Exception ignored in: <bound method BaseSession._Callable.__del__ of <tensorflow.python.client.session.BaseSession._Callable object at 0x7fa9f66f6400>>\n",
            "Traceback (most recent call last):\n",
            "  File \"/usr/local/lib/python3.6/dist-packages/tensorflow/python/client/session.py\", line 1455, in __del__\n",
            "    self._session._session, self._handle, status)\n",
            "  File \"/usr/local/lib/python3.6/dist-packages/tensorflow/python/framework/errors_impl.py\", line 528, in __exit__\n",
            "    c_api.TF_GetCode(self.status.status))\n",
            "tensorflow.python.framework.errors_impl.CancelledError: Session has been closed.\n"
          ],
          "name": "stderr"
        },
        {
          "output_type": "stream",
          "text": [
            "3000/3000 [==============================] - 420s 140ms/step - loss: 0.4269 - mean_squared_error: 0.4269\n",
            "Epoch 2/5\n",
            "3000/3000 [==============================] - 411s 137ms/step - loss: 0.0795 - mean_squared_error: 0.0795\n",
            "Epoch 3/5\n",
            "3000/3000 [==============================] - 412s 137ms/step - loss: 0.1103 - mean_squared_error: 0.1103\n",
            "Epoch 4/5\n",
            "3000/3000 [==============================] - 409s 136ms/step - loss: 0.0629 - mean_squared_error: 0.0629\n",
            "Epoch 5/5\n",
            "3000/3000 [==============================] - 408s 136ms/step - loss: 0.0726 - mean_squared_error: 0.0726\n"
          ],
          "name": "stdout"
        }
      ]
    },
    {
      "cell_type": "code",
      "metadata": {
        "id": "ZhdN5zsWZi-X",
        "colab_type": "code",
        "colab": {
          "base_uri": "https://localhost:8080/",
          "height": 182
        },
        "outputId": "dbe2a8c8-83fc-4a7a-fa65-8c1cc8c626fb"
      },
      "source": [
        "\n",
        "with tf.Session() as session:\n",
        "    K.set_session(session)\n",
        "    session.run(tf.global_variables_initializer())\n",
        "    session.run(tf.tables_initializer())\n",
        "    model.load_weights('./elmo-model.h5')  \n",
        "    test_loss=model.evaluate(x_test,y_test,batch_size=8)\n",
        "    `test_loss"
      ],
      "execution_count": 74,
      "outputs": [
        {
          "output_type": "stream",
          "text": [
            "Exception ignored in: <bound method BaseSession._Callable.__del__ of <tensorflow.python.client.session.BaseSession._Callable object at 0x7fa9f76bbba8>>\n",
            "Traceback (most recent call last):\n",
            "  File \"/usr/local/lib/python3.6/dist-packages/tensorflow/python/client/session.py\", line 1455, in __del__\n",
            "    self._session._session, self._handle, status)\n",
            "  File \"/usr/local/lib/python3.6/dist-packages/tensorflow/python/framework/errors_impl.py\", line 528, in __exit__\n",
            "    c_api.TF_GetCode(self.status.status))\n",
            "tensorflow.python.framework.errors_impl.CancelledError: Session has been closed.\n"
          ],
          "name": "stderr"
        },
        {
          "output_type": "stream",
          "text": [
            "200/200 [==============================] - 40s 198ms/step\n"
          ],
          "name": "stdout"
        }
      ]
    },
    {
      "cell_type": "code",
      "metadata": {
        "id": "U0aJv5IFrfwJ",
        "colab_type": "code",
        "colab": {
          "base_uri": "https://localhost:8080/",
          "height": 35
        },
        "outputId": "c2a74a8c-7211-4676-9ee6-bcbd7a0ca38c"
      },
      "source": [
        "print(test_loss)"
      ],
      "execution_count": 75,
      "outputs": [
        {
          "output_type": "stream",
          "text": [
            "[0.2188609506189823, 0.2188609506189823]\n"
          ],
          "name": "stdout"
        }
      ]
    },
    {
      "cell_type": "code",
      "metadata": {
        "id": "MS89Moy2Zjly",
        "colab_type": "code",
        "colab": {
          "base_uri": "https://localhost:8080/",
          "height": 243
        },
        "outputId": "5a3dd89d-e960-48d4-e6ff-dc31ca42a2f2"
      },
      "source": [
        "from sklearn import metrics\n",
        "\n",
        "print(metrics.confusion_matrix(y_test, y_preds))\n",
        "\n",
        "print(metrics.classification_report(y_test, y_preds))\n"
      ],
      "execution_count": 61,
      "outputs": [
        {
          "output_type": "error",
          "ename": "NameError",
          "evalue": "ignored",
          "traceback": [
            "\u001b[0;31m---------------------------------------------------------------------------\u001b[0m",
            "\u001b[0;31mNameError\u001b[0m                                 Traceback (most recent call last)",
            "\u001b[0;32m<ipython-input-61-8591bdb598e4>\u001b[0m in \u001b[0;36m<module>\u001b[0;34m()\u001b[0m\n\u001b[1;32m      1\u001b[0m \u001b[0;32mfrom\u001b[0m \u001b[0msklearn\u001b[0m \u001b[0;32mimport\u001b[0m \u001b[0mmetrics\u001b[0m\u001b[0;34m\u001b[0m\u001b[0;34m\u001b[0m\u001b[0m\n\u001b[1;32m      2\u001b[0m \u001b[0;34m\u001b[0m\u001b[0m\n\u001b[0;32m----> 3\u001b[0;31m \u001b[0mprint\u001b[0m\u001b[0;34m(\u001b[0m\u001b[0mmetrics\u001b[0m\u001b[0;34m.\u001b[0m\u001b[0mconfusion_matrix\u001b[0m\u001b[0;34m(\u001b[0m\u001b[0my_test\u001b[0m\u001b[0;34m,\u001b[0m \u001b[0my_preds\u001b[0m\u001b[0;34m)\u001b[0m\u001b[0;34m)\u001b[0m\u001b[0;34m\u001b[0m\u001b[0;34m\u001b[0m\u001b[0m\n\u001b[0m\u001b[1;32m      4\u001b[0m \u001b[0;34m\u001b[0m\u001b[0m\n\u001b[1;32m      5\u001b[0m \u001b[0mprint\u001b[0m\u001b[0;34m(\u001b[0m\u001b[0mmetrics\u001b[0m\u001b[0;34m.\u001b[0m\u001b[0mclassification_report\u001b[0m\u001b[0;34m(\u001b[0m\u001b[0my_test\u001b[0m\u001b[0;34m,\u001b[0m \u001b[0my_preds\u001b[0m\u001b[0;34m)\u001b[0m\u001b[0;34m)\u001b[0m\u001b[0;34m\u001b[0m\u001b[0;34m\u001b[0m\u001b[0m\n",
            "\u001b[0;31mNameError\u001b[0m: name 'y_preds' is not defined"
          ]
        }
      ]
    }
  ]
}